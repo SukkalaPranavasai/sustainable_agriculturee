{
 "cells": [
  {
   "cell_type": "markdown",
   "metadata": {},
   "source": [
    "# Exploratory Data Analysis: PlantVillage Dataset Overview\n",
    "\n",
    "This notebook provides an initial exploration of the PlantVillage leaf disease dataset, including class distribution analysis and sample image visualization."
   ]
  },
  {
   "cell_type": "markdown",
   "metadata": {},
   "source": [
    "## 1. Import Required Libraries"
   ]
  },
  {
   "cell_type": "code",
   "execution_count": null,
   "metadata": {},
   "outputs": [],
   "source": [
    "import os\n",
    "import glob\n",
    "import random\n",
    "import matplotlib.pyplot as plt\n",
    "import cv2\n",
    "\n",
    "# Set random seed for reproducibility\n",
    "random.seed(42)\n",
    "print(\"Libraries imported successfully!\")"
   ]
  },
  {
   "cell_type": "markdown",
   "metadata": {},
   "source": [
    "## 2. Define Data Directory Path"
   ]
  },
  {
   "cell_type": "code",
   "execution_count": null,
   "metadata": {},
   "outputs": [],
   "source": [
    "DATA_DIR = \"../data/raw/PlantVillage\"\n",
    "print(f\"Data directory: {DATA_DIR}\")\n",
    "print(f\"Directory exists: {os.path.exists(DATA_DIR)}\")"
   ]
  },
  {
   "cell_type": "markdown",
   "metadata": {},
   "source": [
    "## 3. Analyze Class Distribution"
   ]
  },
  {
   "cell_type": "code",
   "execution_count": null,
   "metadata": {},
   "outputs": [],
   "source": [
    "# Get all class folders\n",
    "class_folders = [d for d in os.listdir(DATA_DIR) if os.path.isdir(os.path.join(DATA_DIR, d))]\n",
    "class_folders.sort()\n",
    "\n",
    "print(f\"Total number of classes: {len(class_folders)}\")\n",
    "print(\"\\nClass folders:\")\n",
    "for folder in class_folders:\n",
    "    print(f\"- {folder}\")"
   ]
  },
  {
   "cell_type": "code",
   "execution_count": null,
   "metadata": {},
   "outputs": [],
   "source": [
    "# Count images per class\n",
    "class_counts = {}\n",
    "total_images = 0\n",
    "\n",
    "for class_name in class_folders:\n",
    "    class_path = os.path.join(DATA_DIR, class_name)\n",
    "    # Count image files (common image extensions)\n",
    "    image_files = glob.glob(os.path.join(class_path, \"*.jpg\")) + \\\n",
    "                  glob.glob(os.path.join(class_path, \"*.jpeg\")) + \\\n",
    "                  glob.glob(os.path.join(class_path, \"*.png\"))\n",
    "    \n",
    "    count = len(image_files)\n",
    "    class_counts[class_name] = count\n",
    "    total_images += count\n",
    "\n",
    "print(f\"Total number of images: {total_images:,}\")\n",
    "print(f\"Average images per class: {total_images / len(class_folders):.1f}\")\n",
    "print(\"\\nImages per class:\")\n",
    "for class_name, count in sorted(class_counts.items(), key=lambda x: x[1], reverse=True):\n",
    "    print(f\"{class_name}: {count:,} images\")"
   ]
  },
  {
   "cell_type": "markdown",
   "metadata": {},
   "source": [
    "## 4. Visualize Class Distribution"
   ]
  },
  {
   "cell_type": "code",
   "execution_count": null,
   "metadata": {},
   "outputs": [],
   "source": [
    "# Create bar chart of class distribution\n",
    "plt.figure(figsize=(15, 8))\n",
    "\n",
    "# Sort classes by count for better visualization\n",
    "sorted_classes = sorted(class_counts.items(), key=lambda x: x[1], reverse=True)\n",
    "class_names = [x[0] for x in sorted_classes]\n",
    "counts = [x[1] for x in sorted_classes]\n",
    "\n",
    "plt.bar(range(len(class_names)), counts, color=\"skyblue\", edgecolor=\"navy\")\n",
    "plt.xlabel(\"Classes\")\n",
    "plt.ylabel(\"Number of Images\")\n",
    "plt.title(\"PlantVillage Dataset: Images per Class\")\n",
    "plt.xticks(range(len(class_names)), class_names, rotation=45, ha=\"right\")\n",
    "plt.grid(axis=\"y\", alpha=0.3)\n",
    "plt.tight_layout()\n",
    "plt.show()\n",
    "\n",
    "# Print summary statistics\n",
    "print(f\"\\nDataset Summary:\")\n",
    "print(f\"- Total classes: {len(class_folders)}\")\n",
    "print(f\"- Total images: {total_images:,}\")\n",
    "print(f\"- Min images per class: {min(counts):,}\")\n",
    "print(f\"- Max images per class: {max(counts):,}\")\n",
    "print(f\"- Median images per class: {sorted(counts)[len(counts)//2]:,}\")"
   ]
  },
  {
   "cell_type": "markdown",
   "metadata": {},
   "source": [
    "## 5. Display Sample Images"
   ]
  },
  {
   "cell_type": "code",
   "execution_count": null,
   "metadata": {},
   "outputs": [],
   "source": [
    "# Function to get random sample images\n",
    "def get_random_samples(num_samples=9):\n",
    "    samples = []\n",
    "    \n",
    "    # Get random classes\n",
    "    selected_classes = random.sample(class_folders, min(num_samples, len(class_folders)))\n",
    "    \n",
    "    for i, class_name in enumerate(selected_classes):\n",
    "        class_path = os.path.join(DATA_DIR, class_name)\n",
    "        image_files = glob.glob(os.path.join(class_path, \"*.jpg\")) + \\\n",
    "                      glob.glob(os.path.join(class_path, \"*.jpeg\")) + \\\n",
    "                      glob.glob(os.path.join(class_path, \"*.png\"))\n",
    "        \n",
    "        if image_files:\n",
    "            # Select random image from this class\n",
    "            random_image = random.choice(image_files)\n",
    "            samples.append((random_image, class_name))\n",
    "    \n",
    "    return samples\n",
    "\n",
    "# Get 9 random samples\n",
    "sample_images = get_random_samples(9)\n",
    "\n",
    "# Display 3x3 grid\n",
    "fig, axes = plt.subplots(3, 3, figsize=(15, 15))\n",
    "fig.suptitle(\"Random Sample Images from PlantVillage Dataset\", fontsize=16, y=0.95)\n",
    "\n",
    "for i, (image_path, class_name) in enumerate(sample_images):\n",
    "    row = i // 3\n",
    "    col = i % 3\n",
    "    \n",
    "    # Read and display image\n",
    "    img = cv2.imread(image_path)\n",
    "    img_rgb = cv2.cvtColor(img, cv2.COLOR_BGR2RGB)\n",
    "    \n",
    "    axes[row, col].imshow(img_rgb)\n",
    "    axes[row, col].set_title(f\"{class_name}\\n{os.path.basename(image_path)}\", \n",
    "                             fontsize=10, wrap=True)\n",
    "    axes[row, col].axis(\"off\")\n",
    "\n",
    "plt.tight_layout()\n",
    "plt.show()\n",
    "\n",
    "print(\"Sample images displayed successfully!\")"
   ]
  },
  {
   "cell_type": "markdown",
   "metadata": {},
   "source": [
    "## Summary\n",
    "\n",
    "This notebook has provided an initial overview of the PlantVillage dataset:\n",
    "\n",
    "- **Dataset Structure**: Analyzed the organization of classes and images\n",
    "- **Class Distribution**: Visualized the distribution of images across different disease categories\n",
    "- **Sample Images**: Displayed random samples to understand image quality and variety\n",
    "\n",
    "**Next Steps**:\n",
    "- Implement data preprocessing pipeline\n",
    "- Create train/validation/test splits\n",
    "- Develop baseline models\n",
    "- Analyze image characteristics (size, color distribution, etc.)"
   ]
  }
 ],
 "metadata": {
  "kernelspec": {
   "display_name": "Python 3",
   "language": "python",
   "name": "python3"
  },
  "language_info": {
   "codemirror_mode": {
    "name": "ipython",
    "version": 3
   },
   "file_extension": ".py",
   "mimetype": "text/x-python",
   "name": "python",
   "nbconvert_exporter": "python",
   "pygments_lexer": "ipython3",
   "version": "3.8.0"
  }
 },
 "nbformat": 4,
 "nbformat_minor": 4
}
